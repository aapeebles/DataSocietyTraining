{
 "cells": [
  {
   "cell_type": "markdown",
   "metadata": {},
   "source": [
    "March 1, 2018 \n",
    "<br>Data Society\n",
    "<br>Interview Presentation\n",
    "<br> Alison Peebles Madigan\n",
    "\n",
    "\n",
    "\n",
    "# **Random Forest Exercise**\n",
    "***\n",
    "\n",
    "## Data\n",
    "\n",
    "Begin with reading in data as we have before with `read.csv`\n",
    "\n",
    "This data is a bank marketing dataset from the [UCI Maching Learning Repository](https://archive.ics.uci.edu/ml/datasets/Bank+Marketing)\n",
    "> \"The data is related with direct marketing campaigns (phone calls) of a Portuguese banking institution. The classification goal is to predict if the client will subscribe a term deposit (variable y). Often, more than one contact to the same client was required, in order to access if the product (bank term deposit) would be ('yes') or not ('no') subscribed.\"\n",
    "\n",
    "\n",
    "\n",
    " <div class=\"panel-group\" id=\"accordion-1\">\n",
    "  <div class=\"panel panel-default\">\n",
    "    <div class=\"panel-heading\">\n",
    "      <h4 class=\"panel-title\">\n",
    "        <a data-toggle=\"collapse\" data-parent=\"#accordion-1\" href=\"#collapse1-1\">\n",
    "        For Variable Descriptions click here</a>\n",
    "      </h4>\n",
    "    </div>\n",
    "    <div id=\"collapse1-1\" class=\"panel-collapse collapse\">\n",
    "      <div class=\"panel-body\">Input variables:\n",
    "<br> **# bank client data:**\n",
    "<br> 1 - age (numeric)\n",
    "<br>2 - job : type of job (categorical: 'admin.','blue-collar','entrepreneur','housemaid','management','retired','self-employed','services','student','technician','unemployed','unknown')\n",
    "<br>3 - marital : marital status (categorical: 'divorced','married','single','unknown'; note: 'divorced' means divorced or widowed)\n",
    "<br>4 - education (categorical: 'basic.4y','basic.6y','basic.9y','high.school','illiterate','professional.course','university.degree','unknown')\n",
    "<br>5 - default: has credit in default? (categorical: 'no','yes','unknown')\n",
    "<br>6 - housing: has housing loan? (categorical: 'no','yes','unknown')\n",
    "<br>7 - loan: has personal loan? (categorical: 'no','yes','unknown')\n",
    "<br>**# related with the last contact of the current campaign:**\n",
    "<br>8 - contact: contact communication type (categorical: 'cellular','telephone') \n",
    "<br>9 - month: last contact month of year (categorical: 'jan', 'feb', 'mar', ..., 'nov', 'dec')\n",
    "<br>10 - day_of_week: last contact day of the week (categorical: 'mon','tue','wed','thu','fri')\n",
    "<br>11 - duration: last contact duration, in seconds (numeric). Important note: this attribute highly affects the output target (e.g., if duration=0 then y='no'). Yet, the duration is not known before a call is performed. Also, after the end of the call y is obviously known. Thus, this input should only be included for benchmark purposes and should be discarded if the intention is to have a realistic predictive model.\n",
    "<br>**# other attributes:**\n",
    "<br>12 - campaign: number of contacts performed during this campaign and for this client (numeric, includes last contact)\n",
    "<br>13 - pdays: number of days that passed by after the client was last contacted from a previous campaign (numeric; 999 means client was not previously contacted)\n",
    "<br>14 - previous: number of contacts performed before this campaign and for this client (numeric)\n",
    "15 - poutcome: outcome of the previous marketing campaign (categorical: 'failure','nonexistent','success')\n",
    "<br>**# social and economic context attributes**\n",
    "<br>16 - emp.var.rate: employment variation rate - quarterly indicator (numeric)\n",
    "<br>17 - cons.price.idx: consumer price index - monthly indicator (numeric) \n",
    "<br>18 - cons.conf.idx: consumer confidence index - monthly indicator (numeric) \n",
    "<br>19 - euribor3m: euribor 3 month rate - daily indicator (numeric)\n",
    "<br>20 - nr.employed: number of employees - quarterly indicator (numeric)\n",
    "\n",
    "<br> **Output variable (desired target):**\n",
    "<br>21 - y - has the client subscribed a term deposit? (binary: 'yes','no')Select the Chart icon and select Histogram</div>\n",
    "    </div>\n",
    "  </div>"
   ]
  },
  {
   "cell_type": "code",
   "execution_count": null,
   "metadata": {},
   "outputs": [],
   "source": [
    "test <- read.csv(file=\"Documents/bank-full.csv\", header = T)"
   ]
  },
  {
   "cell_type": "code",
   "execution_count": null,
   "metadata": {},
   "outputs": [],
   "source": [
    "df_rf <- read.csv(file ='https://raw.githubusercontent.com/aapeebles/DataSocietyTraining/master/bank-additional-full.csv',\n",
    "                  sep=\";\",header = T)"
   ]
  },
  {
   "cell_type": "markdown",
   "metadata": {},
   "source": [
    "### Start with EDA & Summary Data - Examine the Dataset \n",
    "\n",
    "Once again we can use `names()`, `str()`, and `summary()` to examine the entire dataset.\n",
    "<br>We can also use `table()` to explore specific categorical dimensions."
   ]
  },
  {
   "cell_type": "code",
   "execution_count": null,
   "metadata": {},
   "outputs": [],
   "source": [
    "names(df_rf)"
   ]
  },
  {
   "cell_type": "code",
   "execution_count": null,
   "metadata": {},
   "outputs": [],
   "source": [
    "str(df_rf)"
   ]
  },
  {
   "cell_type": "code",
   "execution_count": null,
   "metadata": {},
   "outputs": [],
   "source": [
    "summary(df_rf)"
   ]
  },
  {
   "cell_type": "markdown",
   "metadata": {},
   "source": [
    "#### Target Variable of Classification Model\n",
    "Let's examine the distribution of our target variable and make sure that R will recognize it is a factor to build a classification model.\n",
    "<br> `as.factor()` will assign the target variable as a factor.\n",
    "\n",
    "<br>Do we need to do this for this dataset? \n",
    "<br>When might we need to? What would the variable look like?"
   ]
  },
  {
   "cell_type": "code",
   "execution_count": null,
   "metadata": {},
   "outputs": [],
   "source": [
    "table(df_rf$y)\n",
    "table(df_rf$y)*100/nrow(df_rf)"
   ]
  },
  {
   "cell_type": "markdown",
   "metadata": {},
   "source": [
    "### Pause for the Gini Index\n",
    "\n",
    "Who remembers what numbers we would use to calculate the default probability of misclassifying a datapoint if we only used the target proportions?"
   ]
  },
  {
   "cell_type": "code",
   "execution_count": null,
   "metadata": {},
   "outputs": [],
   "source": [
    "1-(/41188)**2-(/41188)**2"
   ]
  },
  {
   "cell_type": "markdown",
   "metadata": {},
   "source": [
    "***\n",
    "\n",
    "## Random Forest Libraries and Functions"
   ]
  },
  {
   "cell_type": "code",
   "execution_count": null,
   "metadata": {},
   "outputs": [],
   "source": [
    "library(randomForest)"
   ]
  },
  {
   "cell_type": "code",
   "execution_count": null,
   "metadata": {},
   "outputs": [],
   "source": [
    "help(randomForest)"
   ]
  },
  {
   "cell_type": "code",
   "execution_count": null,
   "metadata": {},
   "outputs": [],
   "source": [
    "set.seed(300)"
   ]
  },
  {
   "cell_type": "code",
   "execution_count": null,
   "metadata": {},
   "outputs": [],
   "source": [
    "rf_mod <- randomForest(y ~ .,\n",
    "                       data =df_rf, importance = TRUE, mtry = 4, ntree = 400, replace = TRUE )"
   ]
  },
  {
   "cell_type": "code",
   "execution_count": null,
   "metadata": {},
   "outputs": [],
   "source": [
    "plot(rf_mod)"
   ]
  },
  {
   "cell_type": "code",
   "execution_count": null,
   "metadata": {},
   "outputs": [],
   "source": [
    "# Variable Importance Plot\n",
    "varImpPlot(rf_mod,\n",
    "           sort = T,\n",
    "           main=\"Variable Importance\",\n",
    "           n.var=17)"
   ]
  },
  {
   "cell_type": "code",
   "execution_count": null,
   "metadata": {},
   "outputs": [],
   "source": [
    "rf_mod"
   ]
  },
  {
   "cell_type": "code",
   "execution_count": null,
   "metadata": {
    "scrolled": true
   },
   "outputs": [],
   "source": [
    "summary(rf_mod)"
   ]
  },
  {
   "cell_type": "markdown",
   "metadata": {},
   "source": [
    "## Wait, something seems off here...\n",
    "<br> Why is duration so strong?"
   ]
  },
  {
   "cell_type": "code",
   "execution_count": null,
   "metadata": {
    "scrolled": false
   },
   "outputs": [],
   "source": [
    "library(plyr)\n",
    "library(ggplot2)\n",
    "ddply(df_rf,~y,summarise,mean=mean(duration),sd=sd(duration))\n",
    "qplot(y, duration, data=df_rf, geom=c(\"boxplot\"), \n",
    "   fill=y, main=\"Duration by Answer\",\n",
    "   xlab=\"yes and no\", ylab=\"duration since last call\")"
   ]
  },
  {
   "cell_type": "markdown",
   "metadata": {},
   "source": [
    "Okay, so we **can't** use this variable to help predict. \n",
    "Let's redo the random forrest without that variable. \n",
    "\n",
    "\n",
    "I could start typing the whole formula again.... OR:"
   ]
  },
  {
   "cell_type": "code",
   "execution_count": null,
   "metadata": {},
   "outputs": [],
   "source": [
    "varNames <- names(df_rf)\n",
    "# Exclude ID or Response variable\n",
    "varNames <- varNames[!varNames %in% c(\"y\",\"duration\")]\n",
    "\n",
    "# add + sign between exploratory variables\n",
    "varNames1 <- paste(varNames, collapse = \"+\")\n",
    "\n",
    "# Add response variable and convert to a formula object\n",
    "rf.form <- as.formula(paste(\"y\", varNames1, sep = \" ~ \"))"
   ]
  },
  {
   "cell_type": "markdown",
   "metadata": {},
   "source": [
    "And How would I put that in the formula?`"
   ]
  },
  {
   "cell_type": "code",
   "execution_count": null,
   "metadata": {},
   "outputs": [],
   "source": [
    "rf_mod2 <- randomForest(rf.form,\n",
    "                       data =df_rf, importance = TRUE, mtry = 4, ntree = 400, replace = TRUE )"
   ]
  },
  {
   "cell_type": "code",
   "execution_count": null,
   "metadata": {},
   "outputs": [],
   "source": [
    "# Variable Importance Plot\n",
    "varImpPlot(rf_mod2,\n",
    "           sort = T,\n",
    "           main=\"Variable Importance\",\n",
    "           n.var=17)"
   ]
  },
  {
   "cell_type": "code",
   "execution_count": null,
   "metadata": {},
   "outputs": [],
   "source": [
    "plot(rf_mod2)"
   ]
  },
  {
   "cell_type": "code",
   "execution_count": null,
   "metadata": {},
   "outputs": [],
   "source": [
    "print(rf_mod2)"
   ]
  },
  {
   "cell_type": "code",
   "execution_count": null,
   "metadata": {},
   "outputs": [],
   "source": [
    "df_rf$predicted.response <- predict(rf_mod2,df_rf)"
   ]
  },
  {
   "cell_type": "code",
   "execution_count": null,
   "metadata": {},
   "outputs": [],
   "source": [
    "library(e1071)\n",
    "library(caret)\n",
    "\n",
    "## Loading required package: lattice\n",
    "## Loading required package: ggplot2\n",
    "# Create Confusion Matrix\n",
    "confusionMatrix(data=df_rf$predicted.response,\n",
    "                reference=rf_mod2$y,\n",
    "                positive='yes')"
   ]
  },
  {
   "cell_type": "markdown",
   "metadata": {},
   "source": [
    "## Further Exploration - Test and Train"
   ]
  },
  {
   "cell_type": "code",
   "execution_count": null,
   "metadata": {},
   "outputs": [],
   "source": [
    "sample.ind <- sample(2, \n",
    "                     nrow(df_rf),\n",
    "                     replace = T,\n",
    "                     prob = c(0.6,0.4))\n",
    "df_rf.train <- df_rf[sample.ind==1,]\n",
    "df_rf.test <- df_rf[sample.ind==2,]\n",
    "\n",
    "table(df_rf.train$y)/nrow(df_rf.train)\n",
    "\n",
    "\n",
    "\n",
    "table(df_rf.test$y)/nrow(df_rf.test)\n"
   ]
  },
  {
   "cell_type": "code",
   "execution_count": null,
   "metadata": {},
   "outputs": [],
   "source": [
    "rf_mod3 <- randomForest(rf.form,\n",
    "                       data =df_rf.train, importance = TRUE, mtry = 4, ntree = 400, replace = TRUE )\n"
   ]
  },
  {
   "cell_type": "code",
   "execution_count": null,
   "metadata": {},
   "outputs": [],
   "source": [
    "df_rf.test$predicted.response <- predict(rf_mod3,df_rf.test)\n",
    "confusionMatrix(data=df_rf.test$predicted.response,\n",
    "                reference=rf_mod3$y,\n",
    "                positive='yes')"
   ]
  },
  {
   "cell_type": "markdown",
   "metadata": {},
   "source": [
    "### References:\n",
    "\n",
    "- http://dni-institute.in/blogs/random-forest-using-r-step-by-step-tutorial/\n",
    "- http://cogns.northwestern.edu/cbmg/LiawAndWiener2002.pdf\n",
    "- http://trevorstephens.com/post/73770963794/titanic-getting-started-with-r-part-5-random"
   ]
  }
 ],
 "metadata": {
  "kernelspec": {
   "display_name": "R",
   "language": "R",
   "name": "ir"
  },
  "language_info": {
   "codemirror_mode": "r",
   "file_extension": ".r",
   "mimetype": "text/x-r-source",
   "name": "R",
   "pygments_lexer": "r",
   "version": "3.4.3"
  }
 },
 "nbformat": 4,
 "nbformat_minor": 2
}
